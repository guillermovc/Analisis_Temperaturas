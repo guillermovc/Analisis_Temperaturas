{
 "cells": [
  {
   "cell_type": "code",
   "execution_count": 36,
   "id": "da07f75d-9af2-4e70-8f2b-0481fa9baffe",
   "metadata": {},
   "outputs": [],
   "source": [
    "import pandas as pd\n",
    "from pyspark.ml.regression import LinearRegression\n",
    "\n",
    "from pyspark.ml.linalg import Vectors\n",
    "from pyspark.ml.feature import VectorAssembler\n",
    "from pyspark.ml.feature import StringIndexer\n",
    "\n",
    "from pyspark.sql import SparkSession\n",
    "from pyspark.sql.functions import isnan, when, count, col\n",
    "from pyspark.sql.functions import month\n",
    "from pyspark.sql.functions import countDistinct\n",
    "\n",
    "import matplotlib.pyplot as plt"
   ]
  },
  {
   "cell_type": "code",
   "execution_count": 2,
   "id": "dd152a72-aa92-40d7-ba93-8af09fc5485d",
   "metadata": {},
   "outputs": [],
   "source": [
    "path = \"Remas_Monzon_jun-sep.xlsx\"\n",
    "spark = SparkSession.builder.appName(\"Test\").getOrCreate()"
   ]
  },
  {
   "cell_type": "code",
   "execution_count": 3,
   "id": "657a78e6-81c2-4a1d-b04c-3b969b880b84",
   "metadata": {},
   "outputs": [],
   "source": [
    "pdf = pd.read_excel(path, index_col=0)\n",
    "# pdf = pdf.iloc[: , 1:]"
   ]
  },
  {
   "cell_type": "code",
   "execution_count": 4,
   "id": "f5cee8c1-c7a5-47fd-bd54-fe68a9d61b95",
   "metadata": {},
   "outputs": [],
   "source": [
    "df = spark.createDataFrame(pdf)"
   ]
  },
  {
   "cell_type": "code",
   "execution_count": 5,
   "id": "a3201288-7c50-4570-aa42-6982f190e6e9",
   "metadata": {},
   "outputs": [
    {
     "name": "stdout",
     "output_type": "stream",
     "text": [
      "+-------------+-------------------+-----------+----------------+-------------+-------------------+------------------+\n",
      "|     Estacion|              Fecha|Temperatura|Humedad_relativa|Precipitacion|Presion_barometrica|Evapotranspiracion|\n",
      "+-------------+-------------------+-----------+----------------+-------------+-------------------+------------------+\n",
      "|CASA COLORADA|2021-06-01 00:00:00|      24.38|           44.38|          0.0|             991.19|               0.0|\n",
      "|CASA COLORADA|2021-06-01 01:00:00|      23.05|           47.35|          0.0|             991.07|              0.02|\n",
      "|CASA COLORADA|2021-06-01 02:00:00|       22.1|            50.8|          0.0|             991.15|               0.0|\n",
      "|CASA COLORADA|2021-06-01 03:00:00|      21.52|           51.18|          0.0|             991.27|               0.0|\n",
      "|CASA COLORADA|2021-06-01 04:00:00|      20.84|            53.2|          0.0|             991.17|               0.0|\n",
      "|CASA COLORADA|2021-06-01 05:00:00|       20.1|           54.74|          0.0|             991.42|               0.0|\n",
      "|CASA COLORADA|2021-06-01 06:00:00|      22.62|           52.11|          0.0|             991.67|              0.03|\n",
      "|CASA COLORADA|2021-06-01 07:00:00|      26.85|           44.71|          0.0|             991.62|              0.18|\n",
      "|CASA COLORADA|2021-06-01 08:00:00|      31.01|           36.85|          0.0|             991.26|              0.31|\n",
      "|CASA COLORADA|2021-06-01 09:00:00|      34.05|           29.97|          0.0|             990.54|              0.46|\n",
      "|CASA COLORADA|2021-06-01 10:00:00|      36.65|           21.85|          0.0|             989.91|              0.58|\n",
      "|CASA COLORADA|2021-06-01 11:00:00|      38.48|           19.55|          0.0|             989.24|              0.68|\n",
      "|CASA COLORADA|2021-06-01 12:00:00|      40.38|           17.31|          0.0|             988.41|              0.72|\n",
      "|CASA COLORADA|2021-06-01 13:00:00|      40.77|           17.06|          0.0|             987.81|              0.75|\n",
      "|CASA COLORADA|2021-06-01 14:00:00|       40.4|           19.11|          0.0|             987.23|              0.73|\n",
      "|CASA COLORADA|2021-06-01 15:00:00|      39.28|           18.77|          0.0|             986.98|              0.64|\n",
      "|CASA COLORADA|2021-06-01 16:00:00|       38.6|           19.15|          0.0|             986.76|              0.48|\n",
      "|CASA COLORADA|2021-06-01 17:00:00|      37.19|           19.88|          0.0|              986.6|              0.33|\n",
      "|CASA COLORADA|2021-06-01 18:00:00|      35.04|           21.89|          0.0|             986.91|               0.2|\n",
      "|CASA COLORADA|2021-06-01 19:00:00|      32.69|           24.16|          0.0|             987.69|              0.08|\n",
      "+-------------+-------------------+-----------+----------------+-------------+-------------------+------------------+\n",
      "only showing top 20 rows\n",
      "\n"
     ]
    }
   ],
   "source": [
    "df.show()"
   ]
  },
  {
   "cell_type": "code",
   "execution_count": 6,
   "id": "1370f81a-b662-4017-b9df-6252f6a593b4",
   "metadata": {},
   "outputs": [
    {
     "name": "stdout",
     "output_type": "stream",
     "text": [
      "root\n",
      " |-- Estacion: string (nullable = true)\n",
      " |-- Fecha: timestamp (nullable = true)\n",
      " |-- Temperatura: double (nullable = true)\n",
      " |-- Humedad_relativa: double (nullable = true)\n",
      " |-- Precipitacion: double (nullable = true)\n",
      " |-- Presion_barometrica: double (nullable = true)\n",
      " |-- Evapotranspiracion: double (nullable = true)\n",
      "\n"
     ]
    }
   ],
   "source": [
    "df.cache()\n",
    "df.printSchema()"
   ]
  },
  {
   "cell_type": "code",
   "execution_count": 7,
   "id": "20f74f75-acb4-467e-a543-55bc7f397dd8",
   "metadata": {},
   "outputs": [
    {
     "name": "stdout",
     "output_type": "stream",
     "text": [
      "+-------+-------------------+------------------+----------------+-------------+-------------------+------------------+\n",
      "|summary|           Estacion|       Temperatura|Humedad_relativa|Precipitacion|Presion_barometrica|Evapotranspiracion|\n",
      "+-------+-------------------+------------------+----------------+-------------+-------------------+------------------+\n",
      "|  count|             878457|            878457|          878457|       878457|             878457|            878457|\n",
      "|   mean|               null|28.517840372380153|             NaN|          NaN|                NaN|               NaN|\n",
      "| stddev|               null| 6.285929058607129|             NaN|          NaN|                NaN|               NaN|\n",
      "|    min|BACERAC (LA MISION)|               4.7|            2.13|          0.0|                0.0|               0.0|\n",
      "|    max|             YECORA|             48.06|             NaN|          NaN|                NaN|               NaN|\n",
      "+-------+-------------------+------------------+----------------+-------------+-------------------+------------------+\n",
      "\n"
     ]
    }
   ],
   "source": [
    "df.describe().show()"
   ]
  },
  {
   "cell_type": "code",
   "execution_count": 7,
   "id": "2b213f44-27df-43d3-ad6d-9a145ad51874",
   "metadata": {},
   "outputs": [
    {
     "data": {
      "text/plain": [
       "878457"
      ]
     },
     "execution_count": 7,
     "metadata": {},
     "output_type": "execute_result"
    }
   ],
   "source": [
    "df.count()"
   ]
  },
  {
   "cell_type": "markdown",
   "id": "f3639e49-8863-4d5b-859f-8b1ed7999a5b",
   "metadata": {},
   "source": [
    "## Contando valores faltantes"
   ]
  },
  {
   "cell_type": "code",
   "execution_count": 8,
   "id": "5ea990d5-335b-491b-ad7c-3ccd196edc6c",
   "metadata": {},
   "outputs": [
    {
     "name": "stdout",
     "output_type": "stream",
     "text": [
      "+--------+-----------+----------------+-------------+-------------------+------------------+\n",
      "|Estacion|Temperatura|Humedad_relativa|Precipitacion|Presion_barometrica|Evapotranspiracion|\n",
      "+--------+-----------+----------------+-------------+-------------------+------------------+\n",
      "|       0|          0|          114320|           72|               1161|             26239|\n",
      "+--------+-----------+----------------+-------------+-------------------+------------------+\n",
      "\n"
     ]
    }
   ],
   "source": [
    "df.select([count(when(isnan(c), c)).alias(c) for c in df.columns if c != \"Fecha\"]).show()"
   ]
  },
  {
   "cell_type": "markdown",
   "id": "18d27ff5-b0c9-45f2-9456-211b954c7d07",
   "metadata": {},
   "source": [
    "## Resolviendo los valores faltantes"
   ]
  },
  {
   "cell_type": "code",
   "execution_count": 10,
   "id": "6ff8a08e-4fdf-47c7-98d1-144ccee3eb85",
   "metadata": {},
   "outputs": [
    {
     "name": "stdout",
     "output_type": "stream",
     "text": [
      "+-------------+-------------------+-----------+----------------+-------------+-------------------+------------------+\n",
      "|     Estacion|              Fecha|Temperatura|Humedad_relativa|Precipitacion|Presion_barometrica|Evapotranspiracion|\n",
      "+-------------+-------------------+-----------+----------------+-------------+-------------------+------------------+\n",
      "|CASA COLORADA|2021-06-01 00:00:00|      24.38|           44.38|          0.0|             991.19|               0.0|\n",
      "|CASA COLORADA|2021-06-01 01:00:00|      23.05|           47.35|          0.0|             991.07|              0.02|\n",
      "|CASA COLORADA|2021-06-01 02:00:00|       22.1|            50.8|          0.0|             991.15|               0.0|\n",
      "|CASA COLORADA|2021-06-01 03:00:00|      21.52|           51.18|          0.0|             991.27|               0.0|\n",
      "|CASA COLORADA|2021-06-01 04:00:00|      20.84|            53.2|          0.0|             991.17|               0.0|\n",
      "|CASA COLORADA|2021-06-01 05:00:00|       20.1|           54.74|          0.0|             991.42|               0.0|\n",
      "|CASA COLORADA|2021-06-01 06:00:00|      22.62|           52.11|          0.0|             991.67|              0.03|\n",
      "|CASA COLORADA|2021-06-01 07:00:00|      26.85|           44.71|          0.0|             991.62|              0.18|\n",
      "|CASA COLORADA|2021-06-01 08:00:00|      31.01|           36.85|          0.0|             991.26|              0.31|\n",
      "|CASA COLORADA|2021-06-01 09:00:00|      34.05|           29.97|          0.0|             990.54|              0.46|\n",
      "|CASA COLORADA|2021-06-01 10:00:00|      36.65|           21.85|          0.0|             989.91|              0.58|\n",
      "|CASA COLORADA|2021-06-01 11:00:00|      38.48|           19.55|          0.0|             989.24|              0.68|\n",
      "|CASA COLORADA|2021-06-01 12:00:00|      40.38|           17.31|          0.0|             988.41|              0.72|\n",
      "|CASA COLORADA|2021-06-01 13:00:00|      40.77|           17.06|          0.0|             987.81|              0.75|\n",
      "|CASA COLORADA|2021-06-01 14:00:00|       40.4|           19.11|          0.0|             987.23|              0.73|\n",
      "|CASA COLORADA|2021-06-01 15:00:00|      39.28|           18.77|          0.0|             986.98|              0.64|\n",
      "|CASA COLORADA|2021-06-01 16:00:00|       38.6|           19.15|          0.0|             986.76|              0.48|\n",
      "|CASA COLORADA|2021-06-01 17:00:00|      37.19|           19.88|          0.0|              986.6|              0.33|\n",
      "|CASA COLORADA|2021-06-01 18:00:00|      35.04|           21.89|          0.0|             986.91|               0.2|\n",
      "|CASA COLORADA|2021-06-01 19:00:00|      32.69|           24.16|          0.0|             987.69|              0.08|\n",
      "+-------------+-------------------+-----------+----------------+-------------+-------------------+------------------+\n",
      "only showing top 20 rows\n",
      "\n"
     ]
    }
   ],
   "source": [
    "drop_null = df.dropna(how ='any')\n",
    "drop_null.show()"
   ]
  },
  {
   "cell_type": "markdown",
   "id": "534d2cc4-4528-4d8d-be1e-1ccb952fada1",
   "metadata": {},
   "source": [
    "## Cantidad de datos antes y después de remover valores faltantes"
   ]
  },
  {
   "cell_type": "code",
   "execution_count": 23,
   "id": "d0d50ede-8612-4429-a400-02bd3769b543",
   "metadata": {},
   "outputs": [
    {
     "data": {
      "text/plain": [
       "878457"
      ]
     },
     "execution_count": 23,
     "metadata": {},
     "output_type": "execute_result"
    }
   ],
   "source": [
    "# Antes\n",
    "df.count()"
   ]
  },
  {
   "cell_type": "code",
   "execution_count": 24,
   "id": "1057a44d-c20b-4495-b7c0-530fd5a14671",
   "metadata": {},
   "outputs": [
    {
     "data": {
      "text/plain": [
       "740185"
      ]
     },
     "execution_count": 24,
     "metadata": {},
     "output_type": "execute_result"
    }
   ],
   "source": [
    "# Después\n",
    "drop_null.count()"
   ]
  },
  {
   "cell_type": "code",
   "execution_count": 25,
   "id": "7130ac66-2ceb-4e6b-9525-5803b84c0b7c",
   "metadata": {},
   "outputs": [
    {
     "name": "stdout",
     "output_type": "stream",
     "text": [
      "+--------+-----------+----------------+-------------+-------------------+------------------+\n",
      "|Estacion|Temperatura|Humedad_relativa|Precipitacion|Presion_barometrica|Evapotranspiracion|\n",
      "+--------+-----------+----------------+-------------+-------------------+------------------+\n",
      "|       0|          0|               0|            0|                  0|                 0|\n",
      "+--------+-----------+----------------+-------------+-------------------+------------------+\n",
      "\n"
     ]
    }
   ],
   "source": [
    "# Ahora no hay ningún valor faltante\n",
    "drop_null.select([count(when(isnan(c), c)).alias(c) for c in df.columns if c != \"Fecha\"]).show()"
   ]
  },
  {
   "cell_type": "markdown",
   "id": "7d5aa37f-1228-4d75-9776-6788f795a73d",
   "metadata": {},
   "source": [
    "## Obteniendo una descripción de los datos"
   ]
  },
  {
   "cell_type": "code",
   "execution_count": 26,
   "id": "84077ce0-e3b7-4809-86a5-2eca73021d19",
   "metadata": {},
   "outputs": [
    {
     "name": "stdout",
     "output_type": "stream",
     "text": [
      "+-------+-------------------+------------------+------------------+------------------+-------------------+-------------------+-----------------+\n",
      "|summary|           Estacion|       Temperatura|  Humedad_relativa|     Precipitacion|Presion_barometrica| Evapotranspiracion|              Mes|\n",
      "+-------+-------------------+------------------+------------------+------------------+-------------------+-------------------+-----------------+\n",
      "|  count|             740185|            740185|            740185|            740185|             740185|             740185|           740185|\n",
      "|   mean|               null|28.361532495254544|59.457953106318435| 0.099283935772815|  945.5229442774488|0.25235680269122324|7.500719414740909|\n",
      "| stddev|               null|6.3668533834709455|26.230052339129745|1.1453891296046026| 43.085446017217095|0.29519594557361173|1.109998271983994|\n",
      "|    min|BACERAC (LA MISION)|              4.99|              2.31|               0.0|             775.49|                0.0|                6|\n",
      "|    max|             YECORA|             48.06|            100.58|              83.9|            1017.17|                1.0|                9|\n",
      "+-------+-------------------+------------------+------------------+------------------+-------------------+-------------------+-----------------+\n",
      "\n"
     ]
    }
   ],
   "source": [
    "drop_null.describe().show()"
   ]
  },
  {
   "cell_type": "markdown",
   "id": "0e2dae9a-6645-4d3f-8978-0f68a2e5084d",
   "metadata": {},
   "source": [
    "## Cantidad de muestras por estación"
   ]
  },
  {
   "cell_type": "code",
   "execution_count": 13,
   "id": "8cf76030-34ed-4ab5-8645-d2cb59e96049",
   "metadata": {},
   "outputs": [
    {
     "name": "stdout",
     "output_type": "stream",
     "text": [
      "+--------------------+-----+\n",
      "|            Estacion|count|\n",
      "+--------------------+-----+\n",
      "|     EJ. 21 DE MARZO|23424|\n",
      "|    ROSARIO TESOPACO|23424|\n",
      "|  URES (SAN JOAQUIN)|23424|\n",
      "|               SELVA|23424|\n",
      "|QUEROBABI (EL RODEO)|23424|\n",
      "|       LA LADRILLERA|23424|\n",
      "|NACORI CHICO (EL ...|23424|\n",
      "|          LAS PALMAS|23424|\n",
      "| HUÃSABAS (HUEVERA)|23424|\n",
      "|BANÃMICHI (CADAV...|23424|\n",
      "|  CUMPAS (LOS PINOS)|23424|\n",
      "|       CASA COLORADA|23424|\n",
      "|              MATAPE|23424|\n",
      "|      BAVISPE (LANG)|23424|\n",
      "| BACERAC (LA MISION)|23424|\n",
      "|MAZATÃN (BUENOS ...|23424|\n",
      "|SAHUARIPA (EL CAM...|23424|\n",
      "|         PUEBLO MAYO|23424|\n",
      "|BAVIÃCORA (LA CA...|23424|\n",
      "|KM9 EJIDO AGUA PR...|23420|\n",
      "+--------------------+-----+\n",
      "only showing top 20 rows\n",
      "\n"
     ]
    }
   ],
   "source": [
    "drop_null.groupBy(\"Estacion\").count().sort(\"count\", ascending=False).show()"
   ]
  },
  {
   "cell_type": "markdown",
   "id": "3c1d8dca-6699-4869-aeee-68ccb861c197",
   "metadata": {},
   "source": [
    "## Extrayendo el mes de la columna fecha"
   ]
  },
  {
   "cell_type": "code",
   "execution_count": 14,
   "id": "1b2dd38f-25a8-489b-bcc3-15d6e58b5ae1",
   "metadata": {},
   "outputs": [
    {
     "name": "stdout",
     "output_type": "stream",
     "text": [
      "+-------------+-------------------+-----------+----------------+-------------+-------------------+------------------+---+\n",
      "|     Estacion|              Fecha|Temperatura|Humedad_relativa|Precipitacion|Presion_barometrica|Evapotranspiracion|Mes|\n",
      "+-------------+-------------------+-----------+----------------+-------------+-------------------+------------------+---+\n",
      "|CASA COLORADA|2021-06-01 00:00:00|      24.38|           44.38|          0.0|             991.19|               0.0|  6|\n",
      "|CASA COLORADA|2021-06-01 01:00:00|      23.05|           47.35|          0.0|             991.07|              0.02|  6|\n",
      "|CASA COLORADA|2021-06-01 02:00:00|       22.1|            50.8|          0.0|             991.15|               0.0|  6|\n",
      "|CASA COLORADA|2021-06-01 03:00:00|      21.52|           51.18|          0.0|             991.27|               0.0|  6|\n",
      "|CASA COLORADA|2021-06-01 04:00:00|      20.84|            53.2|          0.0|             991.17|               0.0|  6|\n",
      "|CASA COLORADA|2021-06-01 05:00:00|       20.1|           54.74|          0.0|             991.42|               0.0|  6|\n",
      "|CASA COLORADA|2021-06-01 06:00:00|      22.62|           52.11|          0.0|             991.67|              0.03|  6|\n",
      "|CASA COLORADA|2021-06-01 07:00:00|      26.85|           44.71|          0.0|             991.62|              0.18|  6|\n",
      "|CASA COLORADA|2021-06-01 08:00:00|      31.01|           36.85|          0.0|             991.26|              0.31|  6|\n",
      "|CASA COLORADA|2021-06-01 09:00:00|      34.05|           29.97|          0.0|             990.54|              0.46|  6|\n",
      "|CASA COLORADA|2021-06-01 10:00:00|      36.65|           21.85|          0.0|             989.91|              0.58|  6|\n",
      "|CASA COLORADA|2021-06-01 11:00:00|      38.48|           19.55|          0.0|             989.24|              0.68|  6|\n",
      "|CASA COLORADA|2021-06-01 12:00:00|      40.38|           17.31|          0.0|             988.41|              0.72|  6|\n",
      "|CASA COLORADA|2021-06-01 13:00:00|      40.77|           17.06|          0.0|             987.81|              0.75|  6|\n",
      "|CASA COLORADA|2021-06-01 14:00:00|       40.4|           19.11|          0.0|             987.23|              0.73|  6|\n",
      "|CASA COLORADA|2021-06-01 15:00:00|      39.28|           18.77|          0.0|             986.98|              0.64|  6|\n",
      "|CASA COLORADA|2021-06-01 16:00:00|       38.6|           19.15|          0.0|             986.76|              0.48|  6|\n",
      "|CASA COLORADA|2021-06-01 17:00:00|      37.19|           19.88|          0.0|              986.6|              0.33|  6|\n",
      "|CASA COLORADA|2021-06-01 18:00:00|      35.04|           21.89|          0.0|             986.91|               0.2|  6|\n",
      "|CASA COLORADA|2021-06-01 19:00:00|      32.69|           24.16|          0.0|             987.69|              0.08|  6|\n",
      "+-------------+-------------------+-----------+----------------+-------------+-------------------+------------------+---+\n",
      "only showing top 20 rows\n",
      "\n"
     ]
    }
   ],
   "source": [
    "drop_null = drop_null.withColumn('Mes', month(drop_null.Fecha))\n",
    "drop_null.show()"
   ]
  },
  {
   "cell_type": "markdown",
   "id": "531563e9-c3c6-4e51-8d1e-e0611b2ecdd0",
   "metadata": {},
   "source": [
    "## Temperaturas más altas registradas"
   ]
  },
  {
   "cell_type": "code",
   "execution_count": 15,
   "id": "1c14fa30-9491-43fa-ac2a-6472e2bac85e",
   "metadata": {},
   "outputs": [
    {
     "name": "stdout",
     "output_type": "stream",
     "text": [
      "+--------------------+---+---------------+\n",
      "|            Estacion|Mes|Temperatura max|\n",
      "+--------------------+---+---------------+\n",
      "|          MONUMENTOS|  9|          48.06|\n",
      "|          MONUMENTOS|  6|          47.87|\n",
      "|      COLONIA MEDANO|  6|           47.5|\n",
      "|SAHUARIPA (EL CAM...|  6|          47.38|\n",
      "|          MONUMENTOS|  8|           47.3|\n",
      "| HUÃSABAS (HUEVERA)|  6|          47.23|\n",
      "|      COLONIA MEDANO|  7|          47.21|\n",
      "|       CASA COLORADA|  6|          47.18|\n",
      "|  CUMPAS (LOS PINOS)|  6|          47.17|\n",
      "|      COLONIA MEDANO|  8|          47.12|\n",
      "|             LA LOMA|  6|          46.91|\n",
      "|    TEPACHE (CUMARO)|  6|          46.66|\n",
      "|               SELVA|  6|          46.59|\n",
      "|MAZATÃN (BUENOS ...|  6|          46.58|\n",
      "|  URES (SAN JOAQUIN)|  6|           46.4|\n",
      "|          MONUMENTOS|  7|          46.39|\n",
      "|      COLONIA MEDANO|  9|          46.32|\n",
      "|          LAS PALMAS|  6|          46.28|\n",
      "|       LOS ALGODONES|  6|          46.16|\n",
      "|  URES (SAN JOAQUIN)|  7|          45.75|\n",
      "+--------------------+---+---------------+\n",
      "only showing top 20 rows\n",
      "\n"
     ]
    }
   ],
   "source": [
    "max_temp_por_estacion = drop_null.groupBy(\"Estacion\", \"Mes\").max(\"Temperatura\").withColumnRenamed(\"max(Temperatura)\", \"Temperatura max\")\n",
    "max_temp_por_estacion = max_temp_por_estacion.sort(col(\"Temperatura max\"), ascending=False)\n",
    "max_temp_por_estacion.show()"
   ]
  },
  {
   "cell_type": "markdown",
   "id": "efab9db7-5e28-4afd-82c5-53fe33a5eff4",
   "metadata": {},
   "source": [
    "## Temperaturas más bajas registradas"
   ]
  },
  {
   "cell_type": "code",
   "execution_count": 16,
   "id": "323b3149-a61c-491b-84b6-653c2efadd82",
   "metadata": {},
   "outputs": [
    {
     "name": "stdout",
     "output_type": "stream",
     "text": [
      "+--------------------+---+---------------+\n",
      "|            Estacion|Mes|Temperatura min|\n",
      "+--------------------+---+---------------+\n",
      "|              YECORA|  9|           4.99|\n",
      "|KM9 EJIDO AGUA PR...|  9|            6.6|\n",
      "|              YECORA|  6|           6.88|\n",
      "| BACERAC (LA MISION)|  9|           7.05|\n",
      "|          LAS PALMAS|  9|           7.29|\n",
      "|BANÃMICHI (CADAV...|  9|           7.57|\n",
      "|KM9 EJIDO AGUA PR...|  6|            7.8|\n",
      "|BANÃMICHI (CADAV...|  6|           8.14|\n",
      "|  SONOYTA (HIGAREDA)|  6|           8.23|\n",
      "|      BAVISPE (LANG)|  9|           8.27|\n",
      "|QUEROBABI (EL RODEO)|  9|           8.52|\n",
      "|       LA LADRILLERA|  9|           8.53|\n",
      "|  SONOYTA (HIGAREDA)|  9|            8.6|\n",
      "|NACORI CHICO (EL ...|  9|           8.74|\n",
      "|  URES (SAN JOAQUIN)|  9|           8.76|\n",
      "|  CAMPO TIERRA VIEJA|  9|           8.91|\n",
      "|MAZATÃN (BUENOS ...|  9|           8.98|\n",
      "|          EL CARRIZO|  9|           9.17|\n",
      "|  CUMPAS (LOS PINOS)|  9|           9.22|\n",
      "| BACERAC (LA MISION)|  6|           9.26|\n",
      "+--------------------+---+---------------+\n",
      "only showing top 20 rows\n",
      "\n"
     ]
    }
   ],
   "source": [
    "min_temp_por_estacion = drop_null.groupBy(\"Estacion\", \"Mes\").min(\"Temperatura\").withColumnRenamed(\"min(Temperatura)\", \"Temperatura min\")\n",
    "min_temp_por_estacion = min_temp_por_estacion.sort(col(\"Temperatura min\"), ascending=True)\n",
    "min_temp_por_estacion.show()"
   ]
  },
  {
   "cell_type": "markdown",
   "id": "545a81bb-e041-4064-a1d0-9e87e4c00582",
   "metadata": {},
   "source": [
    "## Contando las estaciones distintas"
   ]
  },
  {
   "cell_type": "code",
   "execution_count": 18,
   "id": "1abafe63-7273-4097-8291-441a6e222950",
   "metadata": {},
   "outputs": [
    {
     "name": "stdout",
     "output_type": "stream",
     "text": [
      "+------------------------+\n",
      "|count(DISTINCT Estacion)|\n",
      "+------------------------+\n",
      "|                      34|\n",
      "+------------------------+\n",
      "\n"
     ]
    }
   ],
   "source": [
    "drop_null.select(countDistinct(\"Estacion\")).show()"
   ]
  },
  {
   "cell_type": "markdown",
   "id": "5e87592c-907e-44e5-8024-9c9482475f23",
   "metadata": {},
   "source": [
    "# Entrenamiento"
   ]
  },
  {
   "cell_type": "markdown",
   "id": "2bba3c50-e1ae-4a5c-aabd-de2a60b86ee8",
   "metadata": {},
   "source": [
    "## Indexando las estaciones distintas"
   ]
  },
  {
   "cell_type": "code",
   "execution_count": 30,
   "id": "03af6bfc-a68f-4842-9a63-abe7a92ce127",
   "metadata": {},
   "outputs": [
    {
     "name": "stdout",
     "output_type": "stream",
     "text": [
      "Row(Estacion='CASA COLORADA', Fecha=datetime.datetime(2021, 6, 1, 0, 0), Temperatura=24.38, Humedad_relativa=44.38, Precipitacion=0.0, Presion_barometrica=991.19, Evapotranspiracion=0.0, Mes=6, theEstacion=4.0)\n",
      "\n",
      "\n",
      "Row(Estacion='CASA COLORADA', Fecha=datetime.datetime(2021, 6, 1, 1, 0), Temperatura=23.05, Humedad_relativa=47.35, Precipitacion=0.0, Presion_barometrica=991.07, Evapotranspiracion=0.02, Mes=6, theEstacion=4.0)\n",
      "\n",
      "\n",
      "Row(Estacion='CASA COLORADA', Fecha=datetime.datetime(2021, 6, 1, 2, 0), Temperatura=22.1, Humedad_relativa=50.8, Precipitacion=0.0, Presion_barometrica=991.15, Evapotranspiracion=0.0, Mes=6, theEstacion=4.0)\n",
      "\n",
      "\n",
      "Row(Estacion='CASA COLORADA', Fecha=datetime.datetime(2021, 6, 1, 3, 0), Temperatura=21.52, Humedad_relativa=51.18, Precipitacion=0.0, Presion_barometrica=991.27, Evapotranspiracion=0.0, Mes=6, theEstacion=4.0)\n",
      "\n",
      "\n",
      "Row(Estacion='CASA COLORADA', Fecha=datetime.datetime(2021, 6, 1, 4, 0), Temperatura=20.84, Humedad_relativa=53.2, Precipitacion=0.0, Presion_barometrica=991.17, Evapotranspiracion=0.0, Mes=6, theEstacion=4.0)\n",
      "\n",
      "\n"
     ]
    }
   ],
   "source": [
    "indexer=StringIndexer(inputCol='Estacion',outputCol='theEstacion')\n",
    "indexed=indexer.fit(drop_null).transform(drop_null)\n",
    "for item in indexed.head(5):\n",
    "    print(item)\n",
    "    print('\\n')"
   ]
  },
  {
   "cell_type": "markdown",
   "id": "d82923ec-1c8b-472a-8baa-265b6b1c100e",
   "metadata": {},
   "source": [
    "## Formando nuestro vector de características"
   ]
  },
  {
   "cell_type": "code",
   "execution_count": 32,
   "id": "70c19eb0-0d99-4d48-a0bd-e32e5bf11bca",
   "metadata": {
    "tags": []
   },
   "outputs": [
    {
     "name": "stdout",
     "output_type": "stream",
     "text": [
      "+--------------------+-----------+\n",
      "|            features|Temperatura|\n",
      "+--------------------+-----------+\n",
      "|[6.0,44.38,0.0,99...|      24.38|\n",
      "|[6.0,47.35,0.0,99...|      23.05|\n",
      "|[6.0,50.8,0.0,991...|       22.1|\n",
      "|[6.0,51.18,0.0,99...|      21.52|\n",
      "|[6.0,53.2,0.0,991...|      20.84|\n",
      "+--------------------+-----------+\n",
      "only showing top 5 rows\n",
      "\n"
     ]
    }
   ],
   "source": [
    "assembler = VectorAssembler(inputCols=[\"Mes\",\"Humedad_relativa\",\"Precipitacion\",\"Presion_barometrica\",\"Evapotranspiracion\"], outputCol='features')\n",
    "output = assembler.transform(indexed)\n",
    "output.select('features','Temperatura').show(5)"
   ]
  },
  {
   "cell_type": "code",
   "execution_count": 37,
   "id": "cb51843b-9f9d-4916-8fa6-5668b552b491",
   "metadata": {},
   "outputs": [],
   "source": [
    "# Asignando una temperatura a nuestro vector de características\n",
    "final_data = output.select('features','Temperatura')\n",
    "\n",
    "# Dividiendo los datos en entrenamiento y prueba\n",
    "train_data, test_data = final_data.randomSplit([0.8,0.2])"
   ]
  },
  {
   "cell_type": "markdown",
   "id": "d25b8892-32e6-4d71-945d-9c7758763102",
   "metadata": {},
   "source": [
    "## Entrenando un modelo de Regresion Lineal"
   ]
  },
  {
   "cell_type": "code",
   "execution_count": 38,
   "id": "787c2085-d45f-494f-aa9d-6d6cbcebccc1",
   "metadata": {},
   "outputs": [
    {
     "name": "stdout",
     "output_type": "stream",
     "text": [
      "Rsquared Error : 0.7403757977104684\n"
     ]
    }
   ],
   "source": [
    "lr_model = LinearRegression(featuresCol='features',labelCol='Temperatura')\n",
    "#pass train_data to train model\n",
    "trained_Temp_model = lr_model.fit(train_data)\n",
    "#evaluating model trained for Rsquared error\n",
    "temp_results = trained_Temp_model.evaluate(test_data)\n",
    "  \n",
    "print('Rsquared Error :', temp_results.r2)"
   ]
  },
  {
   "cell_type": "code",
   "execution_count": 39,
   "id": "af5eca68-7df6-4be7-8b48-eaf32c1fe034",
   "metadata": {},
   "outputs": [
    {
     "name": "stdout",
     "output_type": "stream",
     "text": [
      "MSE:  10.523165522471581\n",
      "MAE:  2.3539806379097454\n",
      "R-squared:  0.7403757977104684\n"
     ]
    }
   ],
   "source": [
    "print(\"MSE: \", temp_results.meanSquaredError)\n",
    "print(\"MAE: \", temp_results.meanAbsoluteError)\n",
    "print(\"R-squared: \", temp_results.r2)"
   ]
  },
  {
   "cell_type": "markdown",
   "id": "c773d791-6fb5-4e2d-aa07-f80e6280acdf",
   "metadata": {},
   "source": [
    "## Probando nuestro modelo"
   ]
  },
  {
   "cell_type": "code",
   "execution_count": 41,
   "id": "35141a31-5fce-434e-927c-9a41e70501eb",
   "metadata": {},
   "outputs": [
    {
     "name": "stdout",
     "output_type": "stream",
     "text": [
      "+--------------------+\n",
      "|            features|\n",
      "+--------------------+\n",
      "|[6.0,4.66,0.0,963...|\n",
      "|[6.0,5.17,0.0,957...|\n",
      "|[6.0,5.17,0.0,964...|\n",
      "|[6.0,5.2,0.0,927....|\n",
      "|[6.0,5.21,0.0,928...|\n",
      "+--------------------+\n",
      "only showing top 5 rows\n",
      "\n"
     ]
    }
   ],
   "source": [
    "unlabeled_data=test_data.select('features')\n",
    "unlabeled_data.show(5)"
   ]
  },
  {
   "cell_type": "markdown",
   "id": "0ee69cf9-9b73-4b8f-8c5a-1bcf3e53d3bd",
   "metadata": {},
   "source": [
    "## Predicciones por vector de características"
   ]
  },
  {
   "cell_type": "code",
   "execution_count": 42,
   "id": "752df2ed-70e2-46f5-8ebb-6691ab160554",
   "metadata": {},
   "outputs": [
    {
     "name": "stdout",
     "output_type": "stream",
     "text": [
      "+--------------------+------------------+\n",
      "|            features|        prediction|\n",
      "+--------------------+------------------+\n",
      "|[6.0,4.66,0.0,963...| 41.07468145360008|\n",
      "|[6.0,5.17,0.0,957...|40.057459766767245|\n",
      "|[6.0,5.17,0.0,964...| 34.34748081943522|\n",
      "|[6.0,5.2,0.0,927....| 33.66277014438482|\n",
      "|[6.0,5.21,0.0,928...|40.385892822066836|\n",
      "|[6.0,5.35,0.0,955...| 36.95101075025153|\n",
      "|[6.0,5.36,0.0,942...| 39.41174480770687|\n",
      "|[6.0,5.57,0.0,943...| 40.28249061726436|\n",
      "|[6.0,5.65,0.0,942...|40.911244736213234|\n",
      "|[6.0,5.66,0.0,941...| 36.72252955544636|\n",
      "|[6.0,5.7,0.0,964....| 40.77267361976594|\n",
      "|[6.0,5.74,0.0,941...| 34.48761989705084|\n",
      "|[6.0,5.74,0.0,943...| 40.94790814629743|\n",
      "|[6.0,5.74,0.0,960...| 36.64477887472764|\n",
      "|[6.0,5.84,0.0,962...| 40.28271208061242|\n",
      "|[6.0,5.89,0.0,961...| 35.10129947107711|\n",
      "|[6.0,5.91,0.0,941...| 33.68129714770754|\n",
      "|[6.0,5.95,0.0,956...| 40.90563113333714|\n",
      "|[6.0,6.02,0.0,924...|  36.4466819752015|\n",
      "|[6.0,6.07,0.0,955...| 35.40193919710455|\n",
      "+--------------------+------------------+\n",
      "only showing top 20 rows\n",
      "\n"
     ]
    }
   ],
   "source": [
    "predictions=trained_Temp_model.transform(unlabeled_data)\n",
    "predictions.show()"
   ]
  },
  {
   "cell_type": "markdown",
   "id": "2cfce694-31bf-450d-8b69-fe3a7e30d6f2",
   "metadata": {},
   "source": [
    "## Temperatura real contra temperatura predicha por el modelo"
   ]
  },
  {
   "cell_type": "code",
   "execution_count": 43,
   "id": "6d9b6db6-af4a-4c07-ba67-343ca7adf799",
   "metadata": {},
   "outputs": [
    {
     "name": "stdout",
     "output_type": "stream",
     "text": [
      "+--------------------+-----------+------------------+\n",
      "|            features|Temperatura|        prediction|\n",
      "+--------------------+-----------+------------------+\n",
      "|[6.0,44.38,0.0,99...|      24.38| 28.96873579041116|\n",
      "|[6.0,47.35,0.0,99...|      23.05| 28.82647144742915|\n",
      "|[6.0,50.8,0.0,991...|       22.1|28.251000907222384|\n",
      "|[6.0,51.18,0.0,99...|      21.52| 28.21371336342252|\n",
      "|[6.0,53.2,0.0,991...|      20.84|27.984172768125106|\n",
      "|[6.0,54.74,0.0,99...|       20.1|27.823027130386812|\n",
      "|[6.0,52.11,0.0,99...|      22.62|28.418092140989046|\n",
      "|[6.0,44.71,0.0,99...|      26.85|30.696914652992263|\n",
      "|[6.0,36.85,0.0,99...|      31.01| 32.81979974790482|\n",
      "|[6.0,29.97,0.0,99...|      34.05| 35.01218017999315|\n",
      "+--------------------+-----------+------------------+\n",
      "only showing top 10 rows\n",
      "\n"
     ]
    }
   ],
   "source": [
    "mdata = trained_Temp_model.transform(final_data)\n",
    "mdata.show(10) "
   ]
  },
  {
   "cell_type": "markdown",
   "id": "ed6ba764-838f-4754-aaa7-d20853c658fa",
   "metadata": {},
   "source": [
    "## Graficando los valores reales contra los predichos"
   ]
  },
  {
   "cell_type": "code",
   "execution_count": 44,
   "id": "5d51e8df-5e11-4b78-8baa-e5d4c92ee35e",
   "metadata": {},
   "outputs": [],
   "source": [
    "x_ax = range(0, mdata.count())\n",
    "y_pred = mdata.select(\"prediction\").collect()\n",
    "y_orig = mdata.select(\"Temperatura\").collect() "
   ]
  },
  {
   "cell_type": "code",
   "execution_count": 46,
   "id": "5b3c7e19-8240-42d6-b1bf-6d495000c214",
   "metadata": {},
   "outputs": [
    {
     "data": {
      "image/png": "[encoded data removed]",
      "text/plain": [
       "<Figure size 432x288 with 1 Axes>"
      ]
     },
     "metadata": {
      "needs_background": "light"
     },
     "output_type": "display_data"
    }
   ],
   "source": [
    "plt.plot(x_ax, y_orig, label=\"original\")\n",
    "plt.plot(x_ax, y_pred, label=\"predicted\")\n",
    "plt.title(\"Valores originales vs predichos de la Tmperatura en Sonora\")\n",
    "plt.xlabel('Registro')\n",
    "plt.ylabel('Temperatura (Centigrados)')\n",
    "plt.legend(loc='best',fancybox=True, shadow=True)\n",
    "plt.grid(True)\n",
    "plt.show()"
   ]
  }
 ],
 "metadata": {
  "kernelspec": {
   "display_name": "Python 3 (ipykernel)",
   "language": "python",
   "name": "python3"
  },
  "language_info": {
   "codemirror_mode": {
    "name": "ipython",
    "version": 3
   },
   "file_extension": ".py",
   "mimetype": "text/x-python",
   "name": "python",
   "nbconvert_exporter": "python",
   "pygments_lexer": "ipython3",
   "version": "3.9.12"
  }
 },
 "nbformat": 4,
 "nbformat_minor": 5
}
